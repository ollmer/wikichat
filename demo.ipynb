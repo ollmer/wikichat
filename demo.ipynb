{
 "cells": [
  {
   "cell_type": "code",
   "execution_count": 1,
   "id": "8dcc1b60-1561-4cd9-80d7-87c6cd7e05a2",
   "metadata": {},
   "outputs": [],
   "source": [
    "%load_ext autoreload\n",
    "%autoreload 2"
   ]
  },
  {
   "cell_type": "code",
   "execution_count": 2,
   "id": "ec79d766-939a-451a-bb6c-7e1478df6e41",
   "metadata": {},
   "outputs": [
    {
     "name": "stderr",
     "output_type": "stream",
     "text": [
      "ggml_init_cublas: found 1 CUDA devices:\n",
      "  Device 0: NVIDIA RTX A4500, compute capability 8.6\n"
     ]
    }
   ],
   "source": [
    "from augmented_llm import AugmentedLLM"
   ]
  },
  {
   "cell_type": "code",
   "execution_count": 3,
   "id": "be90ac8d",
   "metadata": {},
   "outputs": [
    {
     "name": "stderr",
     "output_type": "stream",
     "text": [
      "llama.cpp: loading model from ./models/stable-platypus2-13b.ggmlv3.q4_K_M.bin\n",
      "llama_model_load_internal: format     = ggjt v3 (latest)\n",
      "llama_model_load_internal: n_vocab    = 32000\n",
      "llama_model_load_internal: n_ctx      = 2048\n",
      "llama_model_load_internal: n_embd     = 5120\n",
      "llama_model_load_internal: n_mult     = 6912\n",
      "llama_model_load_internal: n_head     = 40\n",
      "llama_model_load_internal: n_head_kv  = 40\n",
      "llama_model_load_internal: n_layer    = 40\n",
      "llama_model_load_internal: n_rot      = 128\n",
      "llama_model_load_internal: n_gqa      = 1\n",
      "llama_model_load_internal: rnorm_eps  = 1.0e-06\n",
      "llama_model_load_internal: n_ff       = 13824\n",
      "llama_model_load_internal: freq_base  = 10000.0\n",
      "llama_model_load_internal: freq_scale = 1\n",
      "llama_model_load_internal: ftype      = 15 (mostly Q4_K - Medium)\n",
      "llama_model_load_internal: model size = 13B\n",
      "llama_model_load_internal: ggml ctx size =    0.11 MB\n",
      "llama_model_load_internal: using CUDA for GPU acceleration\n",
      "llama_model_load_internal: mem required  =  582.00 MB (+ 1600.00 MB per state)\n",
      "llama_model_load_internal: allocating batch_size x (640 kB + n_ctx x 160 B) = 480 MB VRAM for the scratch buffer\n",
      "llama_model_load_internal: offloading 40 repeating layers to GPU\n",
      "llama_model_load_internal: offloading non-repeating layers to GPU\n",
      "llama_model_load_internal: offloading v cache to GPU\n",
      "llama_model_load_internal: offloading k cache to GPU\n",
      "llama_model_load_internal: offloaded 43/43 layers to GPU\n",
      "llama_model_load_internal: total VRAM used: 9493 MB\n",
      "llama_new_context_with_model: kv self size  = 1600.00 MB\n"
     ]
    }
   ],
   "source": [
    "llm = AugmentedLLM()"
   ]
  },
  {
   "cell_type": "code",
   "execution_count": 4,
   "id": "4f2a2e10-032e-4cc0-b686-0dc549b86ac9",
   "metadata": {},
   "outputs": [],
   "source": [
    "def ask(question):\n",
    "    answer, docs = llm.ask(question)\n",
    "    print(answer)\n",
    "    if len(docs):\n",
    "        print(\"\\nSources:\")\n",
    "        for d in docs:\n",
    "            print(d[\"page_url\"], d[\"text\"], \"\\n\")"
   ]
  },
  {
   "cell_type": "code",
   "execution_count": 30,
   "id": "35a9b043-c321-48d8-8f1f-cd6beb605387",
   "metadata": {},
   "outputs": [
    {
     "name": "stdout",
     "output_type": "stream",
     "text": [
      "The next Olympics will take place in Paris, France from July 27th to August 12th, 2024. This will be the third time Paris hosts the Summer Olympics.\n",
      "\n",
      "Sources:\n",
      "https://en.wikipedia.org/wiki/Paris%20Olympics Paris Olympics. 2024 Summer Olympics\n",
      "The 2024 Summer Olympics (the Games of the XXXIII Olympiad) will take place from 27 July 2024 to 12 August 2024. The Paris 2024 Olympic bid was announced as the winner of the bidding process on 13 September 2017, following unsuccessful bid attempts for previous Olympiads. This will be the third time Paris hosts the olympics. \n",
      "\n",
      "https://en.wikipedia.org/wiki/2024%20Summer%20Olympics 2024 Summer Olympics.\n",
      "The 2024 Summer Olympics (), officially the Games of the XXXIII Olympiad () and also known as Paris 2024, is an upcoming international multi-sport event scheduled to take place from 26 July to 11 August 2024 in Paris, France. Having previously hosted in 1900 and 1924, Paris will become the second city to host the Summer Olympics three times after London (1908, 1948 and 2012). The Games will mark the centenary of the Paris Games of 1924, and the sixth Olympic Games hosted by France (three in summer and three in winter). \n",
      "\n",
      "https://en.wikipedia.org/wiki/Paris%20bid%20for%20the%202024%20Summer%20Olympics Paris bid for the 2024 Summer Olympics. Dates\n",
      "The Olympic Games will be held from 2 August 2024 to 18 August 2024; while the Paralympic Games will be from 4 September 2024 to 15 September 2024. Paris will be the second city to host the games three times after London (1908, 1948 and 2012). These would be the sixth hosted games in France, and the third in summer. Los Angeles, which was announced as the 2028 Games host, will be the third city to host three times (1932 and 1984). \n",
      "\n"
     ]
    }
   ],
   "source": [
    "ask(\"Where the next olympics will take place?\")"
   ]
  },
  {
   "cell_type": "code",
   "execution_count": 28,
   "id": "f1e9c9e7-f6a1-44ab-8d8b-284f09997ec9",
   "metadata": {},
   "outputs": [
    {
     "name": "stdout",
     "output_type": "stream",
     "text": [
      "[Wikipedia-based answer] The LIGO project works by using a large-scale physics experiment called Laser Interferometer Gravitational-Wave Observatory (LIGO). This observatory is designed to detect cosmic gravitational waves and develop them as an astronomical tool. It consists of two large observatories built in the United States, with mirrors spaced four kilometers apart that can detect changes less than one ten-thousandth the charge diameter of a proton. The LIGO project was designed by scientists from California Institute of Technology, Massachusetts Institute of Technology (MIT), and industrial contractors, and funded by the National Science Foundation. It aims to open the field of gravitational-wave astronomy through the detection of gravitational waves predicted by general relativity.\n",
      "\n",
      "Sources:\n",
      "https://en.wikipedia.org/wiki/LIGO LIGO.\n",
      "The Laser Interferometer Gravitational-Wave Observatory (LIGO) is a large-scale physics experiment and observatory designed to detect cosmic gravitational waves and to develop gravitational-wave observations as an astronomical tool. Two large observatories were built in the United States with the aim of detecting gravitational waves by laser interferometry. These observatories use mirrors spaced four kilometers apart which are capable of detecting a change of less than one ten-thousandth the charge diameter of a proton. \n",
      "\n",
      "https://en.wikipedia.org/wiki/Massachusetts%20Institute%20of%20Technology Massachusetts Institute of Technology. Recent history\n",
      "The Laser Interferometer Gravitational-Wave Observatory (LIGO) was designed and constructed by a team of scientists from California Institute of Technology, MIT, and industrial contractors, and funded by the National Science Foundation. It was designed to open the field of gravitational-wave astronomy through the detection of gravitational waves predicted by general relativity. Gravitational waves were detected for the first time by the LIGO detector in 2015. For contributions to the LIGO detector and the observation of gravitational waves, two Caltech physicists, Kip Thorne and Barry Barish, and MIT physicist Rainer Weiss won the Nobel Prize in physics in 2017. Weiss, who is also an MIT graduate, designed the laser interferometric technique, which served as the essential blueprint for the LIGO. \n",
      "\n",
      "https://en.wikipedia.org/wiki/Common-path%20interferometer Common-path interferometer. Zero-area Sagnac\n",
      "The Laser Interferometer Gravitational-Wave Observatory (LIGO) consisted of two 4-km Michelson–Fabry–Pérot interferometers, and operated at a power level of about 100 watts of laser power at the beam splitter. A currently ongoing upgrade to Advanced LIGO will require several kilowatts of laser power, and scientists will need to contend with thermal distortion, frequency variation of the lasers, mirror displacement and thermally induced birefringence. \n",
      "\n"
     ]
    }
   ],
   "source": [
    "ask(\"Explain to me how the LIGO project works\")"
   ]
  }
 ],
 "metadata": {
  "kernelspec": {
   "display_name": "Python 3 (ipykernel)",
   "language": "python",
   "name": "python3"
  },
  "language_info": {
   "codemirror_mode": {
    "name": "ipython",
    "version": 3
   },
   "file_extension": ".py",
   "mimetype": "text/x-python",
   "name": "python",
   "nbconvert_exporter": "python",
   "pygments_lexer": "ipython3",
   "version": "3.10.6"
  }
 },
 "nbformat": 4,
 "nbformat_minor": 5
}
